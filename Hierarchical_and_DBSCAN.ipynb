{
 "cells": [
  {
   "cell_type": "code",
   "execution_count": 1,
   "metadata": {},
   "outputs": [],
   "source": [
    "import numpy as np\n",
    "import pandas as pd\n",
    "import scipy.spatial.distance as dist\n",
    "import matplotlib.pyplot as plt\n",
    "import seaborn as sns\n",
    "from sklearn import metrics\n",
    "from sklearn.cluster import DBSCAN\n",
    "from sklearn.preprocessing import StandardScaler\n",
    "%matplotlib inline\n"
   ]
  },
  {
   "cell_type": "code",
   "execution_count": 2,
   "metadata": {},
   "outputs": [
    {
     "data": {
      "text/html": [
       "<div>\n",
       "<style scoped>\n",
       "    .dataframe tbody tr th:only-of-type {\n",
       "        vertical-align: middle;\n",
       "    }\n",
       "\n",
       "    .dataframe tbody tr th {\n",
       "        vertical-align: top;\n",
       "    }\n",
       "\n",
       "    .dataframe thead th {\n",
       "        text-align: right;\n",
       "    }\n",
       "</style>\n",
       "<table border=\"1\" class=\"dataframe\">\n",
       "  <thead>\n",
       "    <tr style=\"text-align: right;\">\n",
       "      <th></th>\n",
       "      <th>Channel</th>\n",
       "      <th>Region</th>\n",
       "      <th>Fresh</th>\n",
       "      <th>Milk</th>\n",
       "      <th>Grocery</th>\n",
       "      <th>Frozen</th>\n",
       "      <th>Detergents_Paper</th>\n",
       "      <th>Delicassen</th>\n",
       "    </tr>\n",
       "  </thead>\n",
       "  <tbody>\n",
       "    <tr>\n",
       "      <th>0</th>\n",
       "      <td>2</td>\n",
       "      <td>3</td>\n",
       "      <td>12669</td>\n",
       "      <td>9656</td>\n",
       "      <td>7561</td>\n",
       "      <td>214</td>\n",
       "      <td>2674</td>\n",
       "      <td>1338</td>\n",
       "    </tr>\n",
       "    <tr>\n",
       "      <th>1</th>\n",
       "      <td>2</td>\n",
       "      <td>3</td>\n",
       "      <td>7057</td>\n",
       "      <td>9810</td>\n",
       "      <td>9568</td>\n",
       "      <td>1762</td>\n",
       "      <td>3293</td>\n",
       "      <td>1776</td>\n",
       "    </tr>\n",
       "    <tr>\n",
       "      <th>2</th>\n",
       "      <td>2</td>\n",
       "      <td>3</td>\n",
       "      <td>6353</td>\n",
       "      <td>8808</td>\n",
       "      <td>7684</td>\n",
       "      <td>2405</td>\n",
       "      <td>3516</td>\n",
       "      <td>7844</td>\n",
       "    </tr>\n",
       "    <tr>\n",
       "      <th>3</th>\n",
       "      <td>1</td>\n",
       "      <td>3</td>\n",
       "      <td>13265</td>\n",
       "      <td>1196</td>\n",
       "      <td>4221</td>\n",
       "      <td>6404</td>\n",
       "      <td>507</td>\n",
       "      <td>1788</td>\n",
       "    </tr>\n",
       "    <tr>\n",
       "      <th>4</th>\n",
       "      <td>2</td>\n",
       "      <td>3</td>\n",
       "      <td>22615</td>\n",
       "      <td>5410</td>\n",
       "      <td>7198</td>\n",
       "      <td>3915</td>\n",
       "      <td>1777</td>\n",
       "      <td>5185</td>\n",
       "    </tr>\n",
       "  </tbody>\n",
       "</table>\n",
       "</div>"
      ],
      "text/plain": [
       "   Channel  Region  Fresh  Milk  Grocery  Frozen  Detergents_Paper  Delicassen\n",
       "0        2       3  12669  9656     7561     214              2674        1338\n",
       "1        2       3   7057  9810     9568    1762              3293        1776\n",
       "2        2       3   6353  8808     7684    2405              3516        7844\n",
       "3        1       3  13265  1196     4221    6404               507        1788\n",
       "4        2       3  22615  5410     7198    3915              1777        5185"
      ]
     },
     "execution_count": 2,
     "metadata": {},
     "output_type": "execute_result"
    }
   ],
   "source": [
    "data = pd.read_csv(\"Wholesale customers data.csv\")\n",
    "data.head()"
   ]
  },
  {
   "cell_type": "code",
   "execution_count": 3,
   "metadata": {},
   "outputs": [
    {
     "data": {
      "text/html": [
       "<div>\n",
       "<style scoped>\n",
       "    .dataframe tbody tr th:only-of-type {\n",
       "        vertical-align: middle;\n",
       "    }\n",
       "\n",
       "    .dataframe tbody tr th {\n",
       "        vertical-align: top;\n",
       "    }\n",
       "\n",
       "    .dataframe thead th {\n",
       "        text-align: right;\n",
       "    }\n",
       "</style>\n",
       "<table border=\"1\" class=\"dataframe\">\n",
       "  <thead>\n",
       "    <tr style=\"text-align: right;\">\n",
       "      <th></th>\n",
       "      <th>Region</th>\n",
       "      <th>Fresh</th>\n",
       "      <th>Milk</th>\n",
       "      <th>Grocery</th>\n",
       "      <th>Frozen</th>\n",
       "      <th>Detergents_Paper</th>\n",
       "      <th>Delicassen</th>\n",
       "    </tr>\n",
       "  </thead>\n",
       "  <tbody>\n",
       "    <tr>\n",
       "      <th>0</th>\n",
       "      <td>3</td>\n",
       "      <td>12669</td>\n",
       "      <td>9656</td>\n",
       "      <td>7561</td>\n",
       "      <td>214</td>\n",
       "      <td>2674</td>\n",
       "      <td>1338</td>\n",
       "    </tr>\n",
       "    <tr>\n",
       "      <th>1</th>\n",
       "      <td>3</td>\n",
       "      <td>7057</td>\n",
       "      <td>9810</td>\n",
       "      <td>9568</td>\n",
       "      <td>1762</td>\n",
       "      <td>3293</td>\n",
       "      <td>1776</td>\n",
       "    </tr>\n",
       "    <tr>\n",
       "      <th>2</th>\n",
       "      <td>3</td>\n",
       "      <td>6353</td>\n",
       "      <td>8808</td>\n",
       "      <td>7684</td>\n",
       "      <td>2405</td>\n",
       "      <td>3516</td>\n",
       "      <td>7844</td>\n",
       "    </tr>\n",
       "    <tr>\n",
       "      <th>3</th>\n",
       "      <td>3</td>\n",
       "      <td>13265</td>\n",
       "      <td>1196</td>\n",
       "      <td>4221</td>\n",
       "      <td>6404</td>\n",
       "      <td>507</td>\n",
       "      <td>1788</td>\n",
       "    </tr>\n",
       "    <tr>\n",
       "      <th>4</th>\n",
       "      <td>3</td>\n",
       "      <td>22615</td>\n",
       "      <td>5410</td>\n",
       "      <td>7198</td>\n",
       "      <td>3915</td>\n",
       "      <td>1777</td>\n",
       "      <td>5185</td>\n",
       "    </tr>\n",
       "  </tbody>\n",
       "</table>\n",
       "</div>"
      ],
      "text/plain": [
       "   Region  Fresh  Milk  Grocery  Frozen  Detergents_Paper  Delicassen\n",
       "0       3  12669  9656     7561     214              2674        1338\n",
       "1       3   7057  9810     9568    1762              3293        1776\n",
       "2       3   6353  8808     7684    2405              3516        7844\n",
       "3       3  13265  1196     4221    6404               507        1788\n",
       "4       3  22615  5410     7198    3915              1777        5185"
      ]
     },
     "execution_count": 3,
     "metadata": {},
     "output_type": "execute_result"
    }
   ],
   "source": [
    "data.drop('Channel',axis=1,inplace=True)\n",
    "data.head()"
   ]
  },
  {
   "cell_type": "code",
   "execution_count": 4,
   "metadata": {},
   "outputs": [
    {
     "data": {
      "text/plain": [
       "3    316\n",
       "1     77\n",
       "2     47\n",
       "Name: Region, dtype: int64"
      ]
     },
     "execution_count": 4,
     "metadata": {},
     "output_type": "execute_result"
    }
   ],
   "source": [
    "data['Region'].value_counts()"
   ]
  },
  {
   "cell_type": "code",
   "execution_count": 5,
   "metadata": {},
   "outputs": [
    {
     "data": {
      "text/plain": [
       "Region              0\n",
       "Fresh               0\n",
       "Milk                0\n",
       "Grocery             0\n",
       "Frozen              0\n",
       "Detergents_Paper    0\n",
       "Delicassen          0\n",
       "dtype: int64"
      ]
     },
     "execution_count": 5,
     "metadata": {},
     "output_type": "execute_result"
    }
   ],
   "source": [
    "data.isnull().sum()"
   ]
  },
  {
   "cell_type": "code",
   "execution_count": 6,
   "metadata": {},
   "outputs": [
    {
     "data": {
      "text/plain": [
       "['Region',\n",
       " 'Fresh',\n",
       " 'Milk',\n",
       " 'Grocery',\n",
       " 'Frozen',\n",
       " 'Detergents_Paper',\n",
       " 'Delicassen']"
      ]
     },
     "execution_count": 6,
     "metadata": {},
     "output_type": "execute_result"
    }
   ],
   "source": [
    "list(data.columns)"
   ]
  },
  {
   "cell_type": "markdown",
   "metadata": {},
   "source": [
    "### Dissimilarity matrix computation"
   ]
  },
  {
   "cell_type": "code",
   "execution_count": 7,
   "metadata": {},
   "outputs": [
    {
     "data": {
      "text/plain": [
       "(440, 440)"
      ]
     },
     "execution_count": 7,
     "metadata": {},
     "output_type": "execute_result"
    }
   ],
   "source": [
    "nominal_diss=np.zeros((data.shape[0],data.shape[0]))\n",
    "nominal_diss.shape"
   ]
  },
  {
   "cell_type": "code",
   "execution_count": 8,
   "metadata": {},
   "outputs": [
    {
     "data": {
      "text/plain": [
       "array([[0., 0., 0., ..., 0., 0., 0.],\n",
       "       [1., 0., 0., ..., 0., 0., 0.],\n",
       "       [1., 1., 0., ..., 0., 0., 0.],\n",
       "       ...,\n",
       "       [1., 1., 1., ..., 0., 0., 0.],\n",
       "       [1., 1., 1., ..., 1., 0., 0.],\n",
       "       [1., 1., 1., ..., 1., 1., 0.]])"
      ]
     },
     "execution_count": 8,
     "metadata": {},
     "output_type": "execute_result"
    }
   ],
   "source": [
    "cnt=0\n",
    "tot=0\n",
    "for i in range(data.shape[0]):\n",
    "    for j in range(i+1,data.shape[0]):\n",
    "        if data.iloc[i,0]==data.iloc[j,0]:\n",
    "            nominal_diss[j][i]=1\n",
    "nominal_diss"
   ]
  },
  {
   "cell_type": "code",
   "execution_count": 9,
   "metadata": {},
   "outputs": [],
   "source": [
    "from sklearn.preprocessing import StandardScaler\n",
    "scaler = StandardScaler()\n",
    "regions=data['Region']\n",
    "data.drop('Region',axis=1,inplace=True)\n",
    "data=scaler.fit_transform(data)\n",
    "data = pd.DataFrame(data,columns=['Fresh','Milk','Grocery','Frozen','Detergents_Paper','Delicassen'])\n",
    "f=data[\"Fresh\"].tolist()\n",
    "ma=data[\"Milk\"].tolist()\n",
    "g=data[\"Grocery\"].tolist()\n",
    "fz=data[\"Frozen\"].tolist()\n",
    "dp=data[\"Detergents_Paper\"].tolist()\n",
    "de=data[\"Delicassen\"].tolist()\n",
    "diss_N= np.zeros((data.shape[0],data.shape[0]))\n",
    "m,n=data.shape\n",
    "for i in range(len(f)):\n",
    "  p1=(f[i],ma[i],g[i],fz[i],dp[i],de[i])\n",
    "  for j in range(i+1,len(f)):\n",
    "    p2=(f[j],ma[j],g[j],fz[j],dp[j],de[j])\n",
    "    diss_N[j][i]=dist.euclidean(p1, p2)"
   ]
  },
  {
   "cell_type": "code",
   "execution_count": 10,
   "metadata": {},
   "outputs": [
    {
     "data": {
      "text/plain": [
       "array([[0.        , 0.        , 0.        , ..., 0.        , 0.        ,\n",
       "        0.        ],\n",
       "       [0.62085789, 0.        , 0.        , ..., 0.        , 0.        ,\n",
       "        0.        ],\n",
       "       [2.41519574, 2.1728031 , 0.        , ..., 0.        , 0.        ,\n",
       "        0.        ],\n",
       "       ...,\n",
       "       [3.5946627 , 3.41213198, 4.14847212, ..., 0.        , 0.        ,\n",
       "        0.        ],\n",
       "       [1.3484613 , 1.50293179, 2.44544539, ..., 4.65765286, 0.        ,\n",
       "        0.        ],\n",
       "       [1.57560318, 1.65064121, 3.09817358, ..., 4.73466988, 0.97011304,\n",
       "        0.        ]])"
      ]
     },
     "execution_count": 10,
     "metadata": {},
     "output_type": "execute_result"
    }
   ],
   "source": [
    "diss_N"
   ]
  },
  {
   "cell_type": "code",
   "execution_count": 11,
   "metadata": {},
   "outputs": [
    {
     "data": {
      "text/plain": [
       "array([[0.        , 0.        , 0.        , ..., 0.        , 0.        ,\n",
       "        0.        ],\n",
       "       [0.81042895, 0.        , 0.        , ..., 0.        , 0.        ,\n",
       "        0.        ],\n",
       "       [1.70759787, 1.58640155, 0.        , ..., 0.        , 0.        ,\n",
       "        0.        ],\n",
       "       ...,\n",
       "       [2.29733135, 2.20606599, 2.57423606, ..., 0.        , 0.        ,\n",
       "        0.        ],\n",
       "       [1.17423065, 1.25146589, 1.7227227 , ..., 2.82882643, 0.        ,\n",
       "        0.        ],\n",
       "       [1.28780159, 1.32532061, 2.04908679, ..., 2.86733494, 0.98505652,\n",
       "        0.        ]])"
      ]
     },
     "execution_count": 11,
     "metadata": {},
     "output_type": "execute_result"
    }
   ],
   "source": [
    "dist=np.add(nominal_diss,diss_N)\n",
    "dist=dist/2\n",
    "dist"
   ]
  },
  {
   "cell_type": "markdown",
   "metadata": {},
   "source": [
    "### Dissimilarity matrix computed for the given dataset (Upper triangular)"
   ]
  },
  {
   "cell_type": "code",
   "execution_count": 12,
   "metadata": {},
   "outputs": [
    {
     "data": {
      "text/html": [
       "<div>\n",
       "<style scoped>\n",
       "    .dataframe tbody tr th:only-of-type {\n",
       "        vertical-align: middle;\n",
       "    }\n",
       "\n",
       "    .dataframe tbody tr th {\n",
       "        vertical-align: top;\n",
       "    }\n",
       "\n",
       "    .dataframe thead th {\n",
       "        text-align: right;\n",
       "    }\n",
       "</style>\n",
       "<table border=\"1\" class=\"dataframe\">\n",
       "  <thead>\n",
       "    <tr style=\"text-align: right;\">\n",
       "      <th></th>\n",
       "      <th>0</th>\n",
       "      <th>1</th>\n",
       "      <th>2</th>\n",
       "      <th>3</th>\n",
       "      <th>4</th>\n",
       "      <th>5</th>\n",
       "      <th>6</th>\n",
       "      <th>7</th>\n",
       "      <th>8</th>\n",
       "      <th>9</th>\n",
       "      <th>...</th>\n",
       "      <th>430</th>\n",
       "      <th>431</th>\n",
       "      <th>432</th>\n",
       "      <th>433</th>\n",
       "      <th>434</th>\n",
       "      <th>435</th>\n",
       "      <th>436</th>\n",
       "      <th>437</th>\n",
       "      <th>438</th>\n",
       "      <th>439</th>\n",
       "    </tr>\n",
       "  </thead>\n",
       "  <tbody>\n",
       "    <tr>\n",
       "      <th>0</th>\n",
       "      <td>0.000000</td>\n",
       "      <td>0.000000</td>\n",
       "      <td>0.000000</td>\n",
       "      <td>0.000000</td>\n",
       "      <td>0.000000</td>\n",
       "      <td>0.000000</td>\n",
       "      <td>0.000000</td>\n",
       "      <td>0.000000</td>\n",
       "      <td>0.000000</td>\n",
       "      <td>0.000000</td>\n",
       "      <td>...</td>\n",
       "      <td>0.000000</td>\n",
       "      <td>0.000000</td>\n",
       "      <td>0.000000</td>\n",
       "      <td>0.000000</td>\n",
       "      <td>0.000000</td>\n",
       "      <td>0.000000</td>\n",
       "      <td>0.000000</td>\n",
       "      <td>0.000000</td>\n",
       "      <td>0.000000</td>\n",
       "      <td>0.0</td>\n",
       "    </tr>\n",
       "    <tr>\n",
       "      <th>1</th>\n",
       "      <td>0.810429</td>\n",
       "      <td>0.000000</td>\n",
       "      <td>0.000000</td>\n",
       "      <td>0.000000</td>\n",
       "      <td>0.000000</td>\n",
       "      <td>0.000000</td>\n",
       "      <td>0.000000</td>\n",
       "      <td>0.000000</td>\n",
       "      <td>0.000000</td>\n",
       "      <td>0.000000</td>\n",
       "      <td>...</td>\n",
       "      <td>0.000000</td>\n",
       "      <td>0.000000</td>\n",
       "      <td>0.000000</td>\n",
       "      <td>0.000000</td>\n",
       "      <td>0.000000</td>\n",
       "      <td>0.000000</td>\n",
       "      <td>0.000000</td>\n",
       "      <td>0.000000</td>\n",
       "      <td>0.000000</td>\n",
       "      <td>0.0</td>\n",
       "    </tr>\n",
       "    <tr>\n",
       "      <th>2</th>\n",
       "      <td>1.707598</td>\n",
       "      <td>1.586402</td>\n",
       "      <td>0.000000</td>\n",
       "      <td>0.000000</td>\n",
       "      <td>0.000000</td>\n",
       "      <td>0.000000</td>\n",
       "      <td>0.000000</td>\n",
       "      <td>0.000000</td>\n",
       "      <td>0.000000</td>\n",
       "      <td>0.000000</td>\n",
       "      <td>...</td>\n",
       "      <td>0.000000</td>\n",
       "      <td>0.000000</td>\n",
       "      <td>0.000000</td>\n",
       "      <td>0.000000</td>\n",
       "      <td>0.000000</td>\n",
       "      <td>0.000000</td>\n",
       "      <td>0.000000</td>\n",
       "      <td>0.000000</td>\n",
       "      <td>0.000000</td>\n",
       "      <td>0.0</td>\n",
       "    </tr>\n",
       "    <tr>\n",
       "      <th>3</th>\n",
       "      <td>1.408988</td>\n",
       "      <td>1.392013</td>\n",
       "      <td>1.841633</td>\n",
       "      <td>0.000000</td>\n",
       "      <td>0.000000</td>\n",
       "      <td>0.000000</td>\n",
       "      <td>0.000000</td>\n",
       "      <td>0.000000</td>\n",
       "      <td>0.000000</td>\n",
       "      <td>0.000000</td>\n",
       "      <td>...</td>\n",
       "      <td>0.000000</td>\n",
       "      <td>0.000000</td>\n",
       "      <td>0.000000</td>\n",
       "      <td>0.000000</td>\n",
       "      <td>0.000000</td>\n",
       "      <td>0.000000</td>\n",
       "      <td>0.000000</td>\n",
       "      <td>0.000000</td>\n",
       "      <td>0.000000</td>\n",
       "      <td>0.0</td>\n",
       "    </tr>\n",
       "    <tr>\n",
       "      <th>4</th>\n",
       "      <td>1.426841</td>\n",
       "      <td>1.461549</td>\n",
       "      <td>1.365083</td>\n",
       "      <td>1.330927</td>\n",
       "      <td>0.000000</td>\n",
       "      <td>0.000000</td>\n",
       "      <td>0.000000</td>\n",
       "      <td>0.000000</td>\n",
       "      <td>0.000000</td>\n",
       "      <td>0.000000</td>\n",
       "      <td>...</td>\n",
       "      <td>0.000000</td>\n",
       "      <td>0.000000</td>\n",
       "      <td>0.000000</td>\n",
       "      <td>0.000000</td>\n",
       "      <td>0.000000</td>\n",
       "      <td>0.000000</td>\n",
       "      <td>0.000000</td>\n",
       "      <td>0.000000</td>\n",
       "      <td>0.000000</td>\n",
       "      <td>0.0</td>\n",
       "    </tr>\n",
       "    <tr>\n",
       "      <th>...</th>\n",
       "      <td>...</td>\n",
       "      <td>...</td>\n",
       "      <td>...</td>\n",
       "      <td>...</td>\n",
       "      <td>...</td>\n",
       "      <td>...</td>\n",
       "      <td>...</td>\n",
       "      <td>...</td>\n",
       "      <td>...</td>\n",
       "      <td>...</td>\n",
       "      <td>...</td>\n",
       "      <td>...</td>\n",
       "      <td>...</td>\n",
       "      <td>...</td>\n",
       "      <td>...</td>\n",
       "      <td>...</td>\n",
       "      <td>...</td>\n",
       "      <td>...</td>\n",
       "      <td>...</td>\n",
       "      <td>...</td>\n",
       "      <td>...</td>\n",
       "    </tr>\n",
       "    <tr>\n",
       "      <th>435</th>\n",
       "      <td>2.095890</td>\n",
       "      <td>2.058796</td>\n",
       "      <td>2.355908</td>\n",
       "      <td>1.856594</td>\n",
       "      <td>1.807544</td>\n",
       "      <td>2.155382</td>\n",
       "      <td>2.219770</td>\n",
       "      <td>2.121640</td>\n",
       "      <td>2.312762</td>\n",
       "      <td>2.234924</td>\n",
       "      <td>...</td>\n",
       "      <td>2.251738</td>\n",
       "      <td>1.622283</td>\n",
       "      <td>2.200300</td>\n",
       "      <td>2.396369</td>\n",
       "      <td>2.082843</td>\n",
       "      <td>0.000000</td>\n",
       "      <td>0.000000</td>\n",
       "      <td>0.000000</td>\n",
       "      <td>0.000000</td>\n",
       "      <td>0.0</td>\n",
       "    </tr>\n",
       "    <tr>\n",
       "      <th>436</th>\n",
       "      <td>1.858683</td>\n",
       "      <td>2.037108</td>\n",
       "      <td>2.290211</td>\n",
       "      <td>1.567330</td>\n",
       "      <td>1.453409</td>\n",
       "      <td>1.868956</td>\n",
       "      <td>1.784225</td>\n",
       "      <td>1.927104</td>\n",
       "      <td>1.957562</td>\n",
       "      <td>2.444980</td>\n",
       "      <td>...</td>\n",
       "      <td>2.212798</td>\n",
       "      <td>2.082200</td>\n",
       "      <td>1.441431</td>\n",
       "      <td>2.019588</td>\n",
       "      <td>1.618284</td>\n",
       "      <td>1.948769</td>\n",
       "      <td>0.000000</td>\n",
       "      <td>0.000000</td>\n",
       "      <td>0.000000</td>\n",
       "      <td>0.0</td>\n",
       "    </tr>\n",
       "    <tr>\n",
       "      <th>437</th>\n",
       "      <td>2.297331</td>\n",
       "      <td>2.206066</td>\n",
       "      <td>2.574236</td>\n",
       "      <td>2.837603</td>\n",
       "      <td>2.597555</td>\n",
       "      <td>2.478337</td>\n",
       "      <td>2.441682</td>\n",
       "      <td>2.311809</td>\n",
       "      <td>2.574350</td>\n",
       "      <td>1.583658</td>\n",
       "      <td>...</td>\n",
       "      <td>2.414251</td>\n",
       "      <td>2.964374</td>\n",
       "      <td>2.712678</td>\n",
       "      <td>2.858760</td>\n",
       "      <td>2.435058</td>\n",
       "      <td>2.749910</td>\n",
       "      <td>3.118514</td>\n",
       "      <td>0.000000</td>\n",
       "      <td>0.000000</td>\n",
       "      <td>0.0</td>\n",
       "    </tr>\n",
       "    <tr>\n",
       "      <th>438</th>\n",
       "      <td>1.174231</td>\n",
       "      <td>1.251466</td>\n",
       "      <td>1.722723</td>\n",
       "      <td>1.081939</td>\n",
       "      <td>1.378648</td>\n",
       "      <td>1.000710</td>\n",
       "      <td>1.003829</td>\n",
       "      <td>1.061925</td>\n",
       "      <td>0.919043</td>\n",
       "      <td>1.826815</td>\n",
       "      <td>...</td>\n",
       "      <td>1.318660</td>\n",
       "      <td>1.827295</td>\n",
       "      <td>1.065490</td>\n",
       "      <td>0.866273</td>\n",
       "      <td>1.030490</td>\n",
       "      <td>2.272250</td>\n",
       "      <td>1.703718</td>\n",
       "      <td>2.828826</td>\n",
       "      <td>0.000000</td>\n",
       "      <td>0.0</td>\n",
       "    </tr>\n",
       "    <tr>\n",
       "      <th>439</th>\n",
       "      <td>1.287802</td>\n",
       "      <td>1.325321</td>\n",
       "      <td>2.049087</td>\n",
       "      <td>1.338716</td>\n",
       "      <td>1.821578</td>\n",
       "      <td>1.108634</td>\n",
       "      <td>1.038479</td>\n",
       "      <td>1.230167</td>\n",
       "      <td>0.823353</td>\n",
       "      <td>1.857423</td>\n",
       "      <td>...</td>\n",
       "      <td>1.339235</td>\n",
       "      <td>1.958683</td>\n",
       "      <td>1.244145</td>\n",
       "      <td>0.815158</td>\n",
       "      <td>1.188411</td>\n",
       "      <td>2.524335</td>\n",
       "      <td>2.070511</td>\n",
       "      <td>2.867335</td>\n",
       "      <td>0.985057</td>\n",
       "      <td>0.0</td>\n",
       "    </tr>\n",
       "  </tbody>\n",
       "</table>\n",
       "<p>440 rows × 440 columns</p>\n",
       "</div>"
      ],
      "text/plain": [
       "          0         1         2         3         4         5         6    \\\n",
       "0    0.000000  0.000000  0.000000  0.000000  0.000000  0.000000  0.000000   \n",
       "1    0.810429  0.000000  0.000000  0.000000  0.000000  0.000000  0.000000   \n",
       "2    1.707598  1.586402  0.000000  0.000000  0.000000  0.000000  0.000000   \n",
       "3    1.408988  1.392013  1.841633  0.000000  0.000000  0.000000  0.000000   \n",
       "4    1.426841  1.461549  1.365083  1.330927  0.000000  0.000000  0.000000   \n",
       "..        ...       ...       ...       ...       ...       ...       ...   \n",
       "435  2.095890  2.058796  2.355908  1.856594  1.807544  2.155382  2.219770   \n",
       "436  1.858683  2.037108  2.290211  1.567330  1.453409  1.868956  1.784225   \n",
       "437  2.297331  2.206066  2.574236  2.837603  2.597555  2.478337  2.441682   \n",
       "438  1.174231  1.251466  1.722723  1.081939  1.378648  1.000710  1.003829   \n",
       "439  1.287802  1.325321  2.049087  1.338716  1.821578  1.108634  1.038479   \n",
       "\n",
       "          7         8         9    ...       430       431       432  \\\n",
       "0    0.000000  0.000000  0.000000  ...  0.000000  0.000000  0.000000   \n",
       "1    0.000000  0.000000  0.000000  ...  0.000000  0.000000  0.000000   \n",
       "2    0.000000  0.000000  0.000000  ...  0.000000  0.000000  0.000000   \n",
       "3    0.000000  0.000000  0.000000  ...  0.000000  0.000000  0.000000   \n",
       "4    0.000000  0.000000  0.000000  ...  0.000000  0.000000  0.000000   \n",
       "..        ...       ...       ...  ...       ...       ...       ...   \n",
       "435  2.121640  2.312762  2.234924  ...  2.251738  1.622283  2.200300   \n",
       "436  1.927104  1.957562  2.444980  ...  2.212798  2.082200  1.441431   \n",
       "437  2.311809  2.574350  1.583658  ...  2.414251  2.964374  2.712678   \n",
       "438  1.061925  0.919043  1.826815  ...  1.318660  1.827295  1.065490   \n",
       "439  1.230167  0.823353  1.857423  ...  1.339235  1.958683  1.244145   \n",
       "\n",
       "          433       434       435       436       437       438  439  \n",
       "0    0.000000  0.000000  0.000000  0.000000  0.000000  0.000000  0.0  \n",
       "1    0.000000  0.000000  0.000000  0.000000  0.000000  0.000000  0.0  \n",
       "2    0.000000  0.000000  0.000000  0.000000  0.000000  0.000000  0.0  \n",
       "3    0.000000  0.000000  0.000000  0.000000  0.000000  0.000000  0.0  \n",
       "4    0.000000  0.000000  0.000000  0.000000  0.000000  0.000000  0.0  \n",
       "..        ...       ...       ...       ...       ...       ...  ...  \n",
       "435  2.396369  2.082843  0.000000  0.000000  0.000000  0.000000  0.0  \n",
       "436  2.019588  1.618284  1.948769  0.000000  0.000000  0.000000  0.0  \n",
       "437  2.858760  2.435058  2.749910  3.118514  0.000000  0.000000  0.0  \n",
       "438  0.866273  1.030490  2.272250  1.703718  2.828826  0.000000  0.0  \n",
       "439  0.815158  1.188411  2.524335  2.070511  2.867335  0.985057  0.0  \n",
       "\n",
       "[440 rows x 440 columns]"
      ]
     },
     "execution_count": 12,
     "metadata": {},
     "output_type": "execute_result"
    }
   ],
   "source": [
    "dist=pd.DataFrame(dist)\n",
    "dist"
   ]
  },
  {
   "cell_type": "markdown",
   "metadata": {},
   "source": [
    "## One hot encoding the categorical attribute - 'Region'"
   ]
  },
  {
   "cell_type": "code",
   "execution_count": 13,
   "metadata": {},
   "outputs": [
    {
     "data": {
      "text/html": [
       "<div>\n",
       "<style scoped>\n",
       "    .dataframe tbody tr th:only-of-type {\n",
       "        vertical-align: middle;\n",
       "    }\n",
       "\n",
       "    .dataframe tbody tr th {\n",
       "        vertical-align: top;\n",
       "    }\n",
       "\n",
       "    .dataframe thead th {\n",
       "        text-align: right;\n",
       "    }\n",
       "</style>\n",
       "<table border=\"1\" class=\"dataframe\">\n",
       "  <thead>\n",
       "    <tr style=\"text-align: right;\">\n",
       "      <th></th>\n",
       "      <th>Fresh</th>\n",
       "      <th>Milk</th>\n",
       "      <th>Grocery</th>\n",
       "      <th>Frozen</th>\n",
       "      <th>Detergents_Paper</th>\n",
       "      <th>Delicassen</th>\n",
       "      <th>Region_1</th>\n",
       "      <th>Region_2</th>\n",
       "      <th>Region_3</th>\n",
       "    </tr>\n",
       "  </thead>\n",
       "  <tbody>\n",
       "    <tr>\n",
       "      <th>0</th>\n",
       "      <td>12669</td>\n",
       "      <td>9656</td>\n",
       "      <td>7561</td>\n",
       "      <td>214</td>\n",
       "      <td>2674</td>\n",
       "      <td>1338</td>\n",
       "      <td>0</td>\n",
       "      <td>0</td>\n",
       "      <td>1</td>\n",
       "    </tr>\n",
       "    <tr>\n",
       "      <th>1</th>\n",
       "      <td>7057</td>\n",
       "      <td>9810</td>\n",
       "      <td>9568</td>\n",
       "      <td>1762</td>\n",
       "      <td>3293</td>\n",
       "      <td>1776</td>\n",
       "      <td>0</td>\n",
       "      <td>0</td>\n",
       "      <td>1</td>\n",
       "    </tr>\n",
       "    <tr>\n",
       "      <th>2</th>\n",
       "      <td>6353</td>\n",
       "      <td>8808</td>\n",
       "      <td>7684</td>\n",
       "      <td>2405</td>\n",
       "      <td>3516</td>\n",
       "      <td>7844</td>\n",
       "      <td>0</td>\n",
       "      <td>0</td>\n",
       "      <td>1</td>\n",
       "    </tr>\n",
       "    <tr>\n",
       "      <th>3</th>\n",
       "      <td>13265</td>\n",
       "      <td>1196</td>\n",
       "      <td>4221</td>\n",
       "      <td>6404</td>\n",
       "      <td>507</td>\n",
       "      <td>1788</td>\n",
       "      <td>0</td>\n",
       "      <td>0</td>\n",
       "      <td>1</td>\n",
       "    </tr>\n",
       "    <tr>\n",
       "      <th>4</th>\n",
       "      <td>22615</td>\n",
       "      <td>5410</td>\n",
       "      <td>7198</td>\n",
       "      <td>3915</td>\n",
       "      <td>1777</td>\n",
       "      <td>5185</td>\n",
       "      <td>0</td>\n",
       "      <td>0</td>\n",
       "      <td>1</td>\n",
       "    </tr>\n",
       "  </tbody>\n",
       "</table>\n",
       "</div>"
      ],
      "text/plain": [
       "   Fresh  Milk  Grocery  Frozen  Detergents_Paper  Delicassen  Region_1  \\\n",
       "0  12669  9656     7561     214              2674        1338         0   \n",
       "1   7057  9810     9568    1762              3293        1776         0   \n",
       "2   6353  8808     7684    2405              3516        7844         0   \n",
       "3  13265  1196     4221    6404               507        1788         0   \n",
       "4  22615  5410     7198    3915              1777        5185         0   \n",
       "\n",
       "   Region_2  Region_3  \n",
       "0         0         1  \n",
       "1         0         1  \n",
       "2         0         1  \n",
       "3         0         1  \n",
       "4         0         1  "
      ]
     },
     "execution_count": 13,
     "metadata": {},
     "output_type": "execute_result"
    }
   ],
   "source": [
    "data = pd.read_csv(\"Wholesale customers data.csv\")\n",
    "data.drop('Channel',axis=1,inplace=True)\n",
    "property_dummies = pd.get_dummies(data['Region'], prefix='Region')\n",
    "data = pd.concat([data, property_dummies], axis=1)\n",
    "data.drop('Region',axis=1,inplace=True)\n",
    "data.head()"
   ]
  },
  {
   "cell_type": "markdown",
   "metadata": {},
   "source": [
    "## Scaling data (standardization)"
   ]
  },
  {
   "cell_type": "code",
   "execution_count": 14,
   "metadata": {},
   "outputs": [],
   "source": [
    "data = scaler.fit_transform(data)\n",
    "data = pd.DataFrame(data,columns=['Fresh','Milk','Grocery','Frozen','Detergents_Paper','Delicassen','Region_1','Region_2','Region_3'])"
   ]
  },
  {
   "cell_type": "code",
   "execution_count": 15,
   "metadata": {},
   "outputs": [],
   "source": [
    "# To avoid dummy variable trap\n",
    "data.drop('Region_3',axis=1,inplace=True)"
   ]
  },
  {
   "cell_type": "code",
   "execution_count": 16,
   "metadata": {},
   "outputs": [
    {
     "data": {
      "text/html": [
       "<div>\n",
       "<style scoped>\n",
       "    .dataframe tbody tr th:only-of-type {\n",
       "        vertical-align: middle;\n",
       "    }\n",
       "\n",
       "    .dataframe tbody tr th {\n",
       "        vertical-align: top;\n",
       "    }\n",
       "\n",
       "    .dataframe thead th {\n",
       "        text-align: right;\n",
       "    }\n",
       "</style>\n",
       "<table border=\"1\" class=\"dataframe\">\n",
       "  <thead>\n",
       "    <tr style=\"text-align: right;\">\n",
       "      <th></th>\n",
       "      <th>Fresh</th>\n",
       "      <th>Milk</th>\n",
       "      <th>Grocery</th>\n",
       "      <th>Frozen</th>\n",
       "      <th>Detergents_Paper</th>\n",
       "      <th>Delicassen</th>\n",
       "      <th>Region_1</th>\n",
       "      <th>Region_2</th>\n",
       "    </tr>\n",
       "  </thead>\n",
       "  <tbody>\n",
       "    <tr>\n",
       "      <th>0</th>\n",
       "      <td>0.052933</td>\n",
       "      <td>0.523568</td>\n",
       "      <td>-0.041115</td>\n",
       "      <td>-0.589367</td>\n",
       "      <td>-0.043569</td>\n",
       "      <td>-0.066339</td>\n",
       "      <td>-0.460566</td>\n",
       "      <td>-0.345822</td>\n",
       "    </tr>\n",
       "    <tr>\n",
       "      <th>1</th>\n",
       "      <td>-0.391302</td>\n",
       "      <td>0.544458</td>\n",
       "      <td>0.170318</td>\n",
       "      <td>-0.270136</td>\n",
       "      <td>0.086407</td>\n",
       "      <td>0.089151</td>\n",
       "      <td>-0.460566</td>\n",
       "      <td>-0.345822</td>\n",
       "    </tr>\n",
       "    <tr>\n",
       "      <th>2</th>\n",
       "      <td>-0.447029</td>\n",
       "      <td>0.408538</td>\n",
       "      <td>-0.028157</td>\n",
       "      <td>-0.137536</td>\n",
       "      <td>0.133232</td>\n",
       "      <td>2.243293</td>\n",
       "      <td>-0.460566</td>\n",
       "      <td>-0.345822</td>\n",
       "    </tr>\n",
       "    <tr>\n",
       "      <th>3</th>\n",
       "      <td>0.100111</td>\n",
       "      <td>-0.624020</td>\n",
       "      <td>-0.392977</td>\n",
       "      <td>0.687144</td>\n",
       "      <td>-0.498588</td>\n",
       "      <td>0.093411</td>\n",
       "      <td>-0.460566</td>\n",
       "      <td>-0.345822</td>\n",
       "    </tr>\n",
       "    <tr>\n",
       "      <th>4</th>\n",
       "      <td>0.840239</td>\n",
       "      <td>-0.052396</td>\n",
       "      <td>-0.079356</td>\n",
       "      <td>0.173859</td>\n",
       "      <td>-0.231918</td>\n",
       "      <td>1.299347</td>\n",
       "      <td>-0.460566</td>\n",
       "      <td>-0.345822</td>\n",
       "    </tr>\n",
       "  </tbody>\n",
       "</table>\n",
       "</div>"
      ],
      "text/plain": [
       "      Fresh      Milk   Grocery    Frozen  Detergents_Paper  Delicassen  \\\n",
       "0  0.052933  0.523568 -0.041115 -0.589367         -0.043569   -0.066339   \n",
       "1 -0.391302  0.544458  0.170318 -0.270136          0.086407    0.089151   \n",
       "2 -0.447029  0.408538 -0.028157 -0.137536          0.133232    2.243293   \n",
       "3  0.100111 -0.624020 -0.392977  0.687144         -0.498588    0.093411   \n",
       "4  0.840239 -0.052396 -0.079356  0.173859         -0.231918    1.299347   \n",
       "\n",
       "   Region_1  Region_2  \n",
       "0 -0.460566 -0.345822  \n",
       "1 -0.460566 -0.345822  \n",
       "2 -0.460566 -0.345822  \n",
       "3 -0.460566 -0.345822  \n",
       "4 -0.460566 -0.345822  "
      ]
     },
     "execution_count": 16,
     "metadata": {},
     "output_type": "execute_result"
    }
   ],
   "source": [
    "data.head()"
   ]
  },
  {
   "cell_type": "markdown",
   "metadata": {},
   "source": [
    "## Hierarchical clustering (Agglomerative)"
   ]
  },
  {
   "cell_type": "code",
   "execution_count": 17,
   "metadata": {},
   "outputs": [
    {
     "name": "stdout",
     "output_type": "stream",
     "text": [
      "[2 2 2 2 2 2 2 2 2 2 2 2 2 2 2 2 2 2 2 2 2 2 2 8 2 2 2 2 6 2 2 2 2 2 2 2 2\n",
      " 2 2 1 2 2 2 6 2 6 2 5 2 6 2 2 2 2 2 2 6 2 2 2 2 5 2 2 2 6 2 2 2 2 2 8 2 2\n",
      " 2 2 2 6 2 2 2 2 2 2 2 9 5 8 2 2 2 2 6 0 2 2 2 2 2 2 2 2 2 1 2 2 2 2 2 2 2\n",
      " 2 2 2 2 2 2 2 2 2 2 2 2 2 2 1 2 2 2 2 2 2 2 2 2 2 2 2 2 2 2 2 2 2 2 6 2 2\n",
      " 2 2 2 2 2 2 2 6 2 2 2 2 2 2 2 6 2 2 2 2 2 2 2 6 2 6 2 2 2 2 2 2 2 1 2 7 2\n",
      " 2 2 2 2 2 2 2 2 6 2 2 2 2 2 2 6 6 2 2 2 6 2 2 2 6 2 6 2 2 2 2 6 2 2 2 2 2\n",
      " 2 2 2 2 2 2 2 2 2 2 2 2 2 2 2 2 2 2 2 2 2 2 2 2 2 2 2 2 2 6 2 2 2 2 2 2 2\n",
      " 2 2 2 2 2 2 2 2 2 2 2 2 2 2 2 2 2 2 2 2 2 2 2 2 2 1 2 2 2 2 2 2 2 2 3 3 3\n",
      " 3 3 3 3 3 3 3 3 3 3 3 3 3 3 3 3 3 3 3 3 3 3 3 3 3 3 3 3 3 0 3 3 3 3 3 3 3\n",
      " 4 3 3 3 3 3 3 2 2 2 6 2 2 2 2 2 6 2 6 2 6 2 2 2 6 2 2 2 2 2 2 2 2 2 2 2 2\n",
      " 2 2 2 2 2 2 2 2 2 2 2 2 2 2 2 2 2 2 2 2 2 2 2 2 2 2 2 2 2 2 2 2 2 2 2 2 2\n",
      " 2 2 2 2 2 2 2 2 2 2 2 2 2 2 2 2 2 2 2 2 2 2 2 2 2 2 2 2 2 2 6 2 2]\n"
     ]
    }
   ],
   "source": [
    "from sklearn.cluster import AgglomerativeClustering\n",
    "cluster = AgglomerativeClustering(n_clusters=10,affinity='euclidean',linkage='complete')\n",
    "cluster.fit_predict(data)\n",
    "print(cluster.labels_)"
   ]
  },
  {
   "cell_type": "code",
   "execution_count": 18,
   "metadata": {},
   "outputs": [
    {
     "data": {
      "image/png": "[encoded data removed]",
      "text/plain": [
       "<Figure size 720x504 with 1 Axes>"
      ]
     },
     "metadata": {
      "needs_background": "light"
     },
     "output_type": "display_data"
    }
   ],
   "source": [
    "from scipy.cluster.hierarchy import dendrogram, linkage, cophenet\n",
    "from scipy.spatial.distance import pdist\n",
    "linked=linkage(data,'single')\n",
    "plt.figure(figsize=(10,7))\n",
    "dendrogram(linked,\n",
    "          orientation='top',\n",
    "          labels=list(range(data.shape[0])),\n",
    "          distance_sort='descending',\n",
    "          show_leaf_counts=True)\n",
    "plt.show()"
   ]
  },
  {
   "cell_type": "markdown",
   "metadata": {},
   "source": [
    "## Cophenetic correlation"
   ]
  },
  {
   "cell_type": "code",
   "execution_count": 19,
   "metadata": {},
   "outputs": [
    {
     "name": "stdout",
     "output_type": "stream",
     "text": [
      "0.838965301935215\n",
      "[0.52926893 1.2507466  0.52430279 ... 0.95858681 0.95858681 0.33742632]\n"
     ]
    }
   ],
   "source": [
    "c, coph_dists = cophenet(linked, pdist(data))\n",
    "print(c)\n",
    "print(coph_dists)"
   ]
  },
  {
   "cell_type": "markdown",
   "metadata": {},
   "source": [
    "## DBSCAN "
   ]
  },
  {
   "cell_type": "code",
   "execution_count": 20,
   "metadata": {},
   "outputs": [
    {
     "name": "stdout",
     "output_type": "stream",
     "text": [
      "[ 0  0 -1  0 -1  0  0  0  0 -1  0  0 -1 -1 -1  0  0 -1  0  0  0  0 -1 -1\n",
      " -1  0  0  0 -1  1  0  0  0 -1  0  0 -1 -1 -1 -1 -1  0  0 -1  0 -1 -1 -1\n",
      "  0 -1  0  0  1  0  0  0 -1  0  0  0  0 -1  0 -1  0 -1  0  0  0  0  0 -1\n",
      " -1  0  0  0 -1 -1  0  0  0  0  0  0  0 -1 -1 -1  0  0  0  0 -1 -1  0  0\n",
      "  0  0  0  0 -1  0  0 -1  0  0  0 -1  0 -1  0 -1  0  0  0  0  0  0  0  0\n",
      "  0  0  0  0 -1 -1  0  0  0  1  0  0  0  0  0  0  0  0  0  0  0 -1 -1  0\n",
      "  0 -1  0  0  0  0  0  0  0  0  0 -1  0  0  0  0  0  0  0 -1  0 -1  0  0\n",
      "  0  0  0 -1  0  0  0  0 -1  0  0  0  0 -1  0 -1  0  0  0 -1  0  0  0  0\n",
      "  0 -1  0  0 -1  3  2  2 -1 -1 -1  2  2 -1  2  3  2 -1  2 -1  2  3  3 -1\n",
      " -1  2 -1  2  2  3  4  4  2  2 -1  2 -1  4 -1  2  2  2  2  2  2  2  2 -1\n",
      " -1  2  2  2  3 -1  2  2  2  4  2 -1  4 -1 -1  2  2 -1 -1 -1  2  4  2 -1\n",
      " -1 -1 -1 -1 -1  2  2  2  2 -1  0  0 -1 -1  0  0  0  0 -1  0 -1  1  0  0\n",
      "  0  1  0  0  0 -1 -1  5 -1 -1 -1  5 -1 -1 -1 -1 -1 -1 -1  5  5 -1 -1 -1\n",
      " -1  5  5 -1  5 -1  5 -1  5  5  5  5 -1 -1  5  5 -1  5  5 -1 -1 -1 -1 -1\n",
      "  5 -1 -1 -1  0  0  0 -1  0  0  0 -1  0 -1  0 -1  0  0  0  0  0 -1 -1  0\n",
      "  0  0  0  0  0  0  0  0  0  0  1  0 -1  0  0  0 -1  1  0  0  0  0 -1  0\n",
      " -1  0  0  0  0  0  0  0  0  0  0  0  0  0  0  0  0 -1  0 -1  0  0  0 -1\n",
      "  0 -1  0 -1  0 -1  0  0  0  0  0  0  0  0  0  0  0 -1 -1 -1  0  0 -1 -1\n",
      "  0  0  0 -1 -1 -1  0  0]\n",
      "Estimated number of clusters: 6\n",
      "Estimated number of noise points: 141\n"
     ]
    }
   ],
   "source": [
    "#data with one hot encoding\n",
    "\n",
    "dbsc = DBSCAN(eps = 0.7, min_samples = 7).fit(data)\n",
    "\n",
    "labels = dbsc.labels_\n",
    "\n",
    "n_clusters_ = len(set(labels)) - (1 if -1 in labels else 0)\n",
    "n_noise_ = list(labels).count(-1)\n",
    "\n",
    "print(labels)\n",
    "print('Estimated number of clusters: %d' % n_clusters_)\n",
    "print('Estimated number of noise points: %d' % n_noise_)"
   ]
  },
  {
   "cell_type": "code",
   "execution_count": 21,
   "metadata": {},
   "outputs": [
    {
     "name": "stdout",
     "output_type": "stream",
     "text": [
      "[ 0  0 -1  0  0  0  0  0  0  0  0  0  0  0  0  0  0  0  0  0  0  0 -1 -1\n",
      " -1  0  0  0 -1  0  0  0  0  0  0  0  0  0  0 -1 -1  0  0  0  0 -1  0 -1\n",
      "  0 -1  0  0  0  0  0  0 -1  0  0  0  0 -1  0  0  0 -1  0  0  0  0  0 -1\n",
      "  0  0  0  0  0 -1  0  0  0  0  0  0  0 -1 -1 -1  0  0  0  0 -1 -1  0  0\n",
      "  0  0  0  0  0  0  0 -1  0  0  0  0  0 -1  0  0  0  0  0  0  0  0  0  0\n",
      "  0  0  0  0  0 -1  0  0  0  0  0  0  0  0  0  0  0  0  0  0  0 -1 -1  0\n",
      "  0 -1  0  0  0  0  0  0  0  0  0  0  0  0  0  0  0  0  0 -1  0  0  0  0\n",
      "  0  0  0 -1  0  0  0  0 -1  0  0  0  0 -1  0 -1  0  0  0  0  0  0  0  0\n",
      "  0  0  0  0 -1  1  1  1 -1 -1 -1  1  1 -1  1  1  1 -1  1 -1  1  1  1  1\n",
      " -1  1 -1  1  1  1  1  1  1  1 -1  1  1  1  1  1  1  1  1  1  1  1  1 -1\n",
      " -1  1  1  1  1  1  1  1  1  1  1 -1  1 -1 -1  1  1  1 -1 -1  1  1  1  1\n",
      "  1 -1  1  1 -1  1  1  1  1  0  0  0  0 -1  0  0  0  0 -1  0 -1  0  0  0\n",
      "  0  0  0  0  0 -1  2  2  2  2  2  2  2 -1  2 -1 -1 -1 -1  2  2 -1  2 -1\n",
      " -1  2  2 -1  2  2  2 -1  2  2  2  2  2 -1  2  2  2  2  2 -1  2 -1 -1 -1\n",
      "  2  2 -1  2  0  0  0 -1  0  0  0  0  0  0  0  0  0  0  0  0  0  0 -1  0\n",
      "  0  0  0  0  0  0  0  0  0  0  0  0  0  0  0  0  0  0  0  0  0  0  0  0\n",
      " -1  0  0  0  0  0  0  0  0  0  0  0  0  0  0  0  0  0  0  0  0  0  0  0\n",
      "  0  0  0  0  0 -1  0  0  0  0  0  0  0  0  0  0  0 -1  0 -1  0  0  0 -1\n",
      "  0  0  0 -1  0 -1  0  0]\n",
      "Estimated number of clusters: 3\n",
      "Estimated number of noise points: 79\n"
     ]
    }
   ],
   "source": [
    "dbsc = DBSCAN(eps = 1, min_samples = 7).fit(data)\n",
    "\n",
    "labels = dbsc.labels_\n",
    "\n",
    "n_clusters_ = len(set(labels)) - (1 if -1 in labels else 0)\n",
    "n_noise_ = list(labels).count(-1)\n",
    "\n",
    "print(labels)\n",
    "print('Estimated number of clusters: %d' % n_clusters_)\n",
    "print('Estimated number of noise points: %d' % n_noise_)"
   ]
  },
  {
   "cell_type": "markdown",
   "metadata": {},
   "source": [
    "## After dimensionality reduction"
   ]
  },
  {
   "cell_type": "code",
   "execution_count": 22,
   "metadata": {},
   "outputs": [
    {
     "data": {
      "text/plain": [
       "array([[ 0.19896039, -0.27300486],\n",
       "       [ 0.44027785, -0.2985047 ],\n",
       "       [ 0.81622152,  0.8456464 ],\n",
       "       [-0.77096324,  0.6781748 ],\n",
       "       [ 0.17228503,  1.30146249]])"
      ]
     },
     "execution_count": 22,
     "metadata": {},
     "output_type": "execute_result"
    }
   ],
   "source": [
    "from sklearn.decomposition import PCA \n",
    "  \n",
    "pca = PCA(n_components = 2) \n",
    "  \n",
    "data_reduced = pca.fit_transform(data) \n",
    "  \n",
    "explained_variance = pca.explained_variance_ratio_ \n",
    "data_reduced[:5]"
   ]
  },
  {
   "cell_type": "code",
   "execution_count": 23,
   "metadata": {},
   "outputs": [
    {
     "data": {
      "text/plain": [
       "array([0.33088351, 0.21311695])"
      ]
     },
     "execution_count": 23,
     "metadata": {},
     "output_type": "execute_result"
    }
   ],
   "source": [
    "explained_variance"
   ]
  },
  {
   "cell_type": "code",
   "execution_count": 24,
   "metadata": {},
   "outputs": [
    {
     "data": {
      "text/html": [
       "<div>\n",
       "<style scoped>\n",
       "    .dataframe tbody tr th:only-of-type {\n",
       "        vertical-align: middle;\n",
       "    }\n",
       "\n",
       "    .dataframe tbody tr th {\n",
       "        vertical-align: top;\n",
       "    }\n",
       "\n",
       "    .dataframe thead th {\n",
       "        text-align: right;\n",
       "    }\n",
       "</style>\n",
       "<table border=\"1\" class=\"dataframe\">\n",
       "  <thead>\n",
       "    <tr style=\"text-align: right;\">\n",
       "      <th></th>\n",
       "      <th>c1</th>\n",
       "      <th>c2</th>\n",
       "    </tr>\n",
       "  </thead>\n",
       "  <tbody>\n",
       "    <tr>\n",
       "      <th>0</th>\n",
       "      <td>0.198960</td>\n",
       "      <td>-0.273005</td>\n",
       "    </tr>\n",
       "    <tr>\n",
       "      <th>1</th>\n",
       "      <td>0.440278</td>\n",
       "      <td>-0.298505</td>\n",
       "    </tr>\n",
       "    <tr>\n",
       "      <th>2</th>\n",
       "      <td>0.816222</td>\n",
       "      <td>0.845646</td>\n",
       "    </tr>\n",
       "    <tr>\n",
       "      <th>3</th>\n",
       "      <td>-0.770963</td>\n",
       "      <td>0.678175</td>\n",
       "    </tr>\n",
       "    <tr>\n",
       "      <th>4</th>\n",
       "      <td>0.172285</td>\n",
       "      <td>1.301462</td>\n",
       "    </tr>\n",
       "  </tbody>\n",
       "</table>\n",
       "</div>"
      ],
      "text/plain": [
       "         c1        c2\n",
       "0  0.198960 -0.273005\n",
       "1  0.440278 -0.298505\n",
       "2  0.816222  0.845646\n",
       "3 -0.770963  0.678175\n",
       "4  0.172285  1.301462"
      ]
     },
     "execution_count": 24,
     "metadata": {},
     "output_type": "execute_result"
    }
   ],
   "source": [
    "data_r=pd.DataFrame(data_reduced,columns=['c1','c2'])\n",
    "data_r.head()"
   ]
  },
  {
   "cell_type": "markdown",
   "metadata": {},
   "source": [
    "### As the variance explained is very less, the results may not be reliable.\n",
    "### PCA applied for visualization purpose alone"
   ]
  },
  {
   "cell_type": "markdown",
   "metadata": {},
   "source": [
    "# HAC Visualization (Single linkage)"
   ]
  },
  {
   "cell_type": "code",
   "execution_count": 25,
   "metadata": {},
   "outputs": [
    {
     "name": "stdout",
     "output_type": "stream",
     "text": [
      "[2 2 2 2 2 2 2 2 2 2 2 2 2 2 2 2 2 2 2 2 2 2 2 8 2 2 2 2 6 2 2 2 2 2 2 2 2\n",
      " 2 2 1 2 2 2 6 2 6 2 5 2 6 2 2 2 2 2 2 6 2 2 2 2 5 2 2 2 6 2 2 2 2 2 8 2 2\n",
      " 2 2 2 6 2 2 2 2 2 2 2 9 5 8 2 2 2 2 6 0 2 2 2 2 2 2 2 2 2 1 2 2 2 2 2 2 2\n",
      " 2 2 2 2 2 2 2 2 2 2 2 2 2 2 1 2 2 2 2 2 2 2 2 2 2 2 2 2 2 2 2 2 2 2 6 2 2\n",
      " 2 2 2 2 2 2 2 6 2 2 2 2 2 2 2 6 2 2 2 2 2 2 2 6 2 6 2 2 2 2 2 2 2 1 2 7 2\n",
      " 2 2 2 2 2 2 2 2 6 2 2 2 2 2 2 6 6 2 2 2 6 2 2 2 6 2 6 2 2 2 2 6 2 2 2 2 2\n",
      " 2 2 2 2 2 2 2 2 2 2 2 2 2 2 2 2 2 2 2 2 2 2 2 2 2 2 2 2 2 6 2 2 2 2 2 2 2\n",
      " 2 2 2 2 2 2 2 2 2 2 2 2 2 2 2 2 2 2 2 2 2 2 2 2 2 1 2 2 2 2 2 2 2 2 3 3 3\n",
      " 3 3 3 3 3 3 3 3 3 3 3 3 3 3 3 3 3 3 3 3 3 3 3 3 3 3 3 3 3 0 3 3 3 3 3 3 3\n",
      " 4 3 3 3 3 3 3 2 2 2 6 2 2 2 2 2 6 2 6 2 6 2 2 2 6 2 2 2 2 2 2 2 2 2 2 2 2\n",
      " 2 2 2 2 2 2 2 2 2 2 2 2 2 2 2 2 2 2 2 2 2 2 2 2 2 2 2 2 2 2 2 2 2 2 2 2 2\n",
      " 2 2 2 2 2 2 2 2 2 2 2 2 2 2 2 2 2 2 2 2 2 2 2 2 2 2 2 2 2 2 6 2 2]\n"
     ]
    },
    {
     "data": {
      "image/png": "[encoded data removed]",
      "text/plain": [
       "<Figure size 432x288 with 1 Axes>"
      ]
     },
     "metadata": {
      "needs_background": "light"
     },
     "output_type": "display_data"
    }
   ],
   "source": [
    "from sklearn.cluster import AgglomerativeClustering\n",
    "cluster = AgglomerativeClustering(n_clusters=10,affinity='euclidean',linkage='complete')\n",
    "cluster.fit_predict(data)\n",
    "print(cluster.labels_)\n",
    "plt.scatter(data_r['c1'],data_r['c2'],c=cluster.labels_,cmap='rainbow',s=25,alpha=0.7)\n",
    "plt.show()"
   ]
  },
  {
   "cell_type": "code",
   "execution_count": 26,
   "metadata": {},
   "outputs": [
    {
     "name": "stdout",
     "output_type": "stream",
     "text": [
      "[[1.50000000e+01 2.80000000e+02 7.72846912e-03 2.00000000e+00]\n",
      " [4.10000000e+01 6.80000000e+01 8.06955740e-03 2.00000000e+00]\n",
      " [1.35000000e+02 1.99000000e+02 8.42324099e-03 2.00000000e+00]\n",
      " ...\n",
      " [8.73000000e+02 8.75000000e+02 3.69047709e+00 4.38000000e+02]\n",
      " [8.50000000e+01 8.76000000e+02 4.72512254e+00 4.39000000e+02]\n",
      " [1.83000000e+02 8.77000000e+02 7.66393899e+00 4.40000000e+02]]\n"
     ]
    },
    {
     "data": {
      "image/png": "[encoded data removed]",
      "text/plain": [
       "<Figure size 720x504 with 1 Axes>"
      ]
     },
     "metadata": {
      "needs_background": "light"
     },
     "output_type": "display_data"
    }
   ],
   "source": [
    "from scipy.cluster.hierarchy import dendrogram, linkage\n",
    "linked=linkage(data_reduced,'single')\n",
    "print(linked)\n",
    "plt.figure(figsize=(10,7))\n",
    "dendrogram(linked,\n",
    "          orientation='top',\n",
    "          labels=list(range(data.shape[0])),\n",
    "          distance_sort='descending',\n",
    "          show_leaf_counts=True)\n",
    "plt.show()"
   ]
  },
  {
   "cell_type": "markdown",
   "metadata": {},
   "source": [
    "## Cophenetic correlation"
   ]
  },
  {
   "cell_type": "code",
   "execution_count": 27,
   "metadata": {},
   "outputs": [
    {
     "name": "stdout",
     "output_type": "stream",
     "text": [
      "0.8790779432188711\n",
      "[0.12335174 0.26899993 0.16113585 ... 0.3315776  0.3315776  0.1104905 ]\n"
     ]
    }
   ],
   "source": [
    "c, coph_dists = cophenet(linked, pdist(data_reduced))\n",
    "print(c)\n",
    "print(coph_dists)"
   ]
  },
  {
   "cell_type": "markdown",
   "metadata": {},
   "source": [
    "# DBSCAN Clustering Visualization"
   ]
  },
  {
   "cell_type": "code",
   "execution_count": 28,
   "metadata": {},
   "outputs": [
    {
     "name": "stdout",
     "output_type": "stream",
     "text": [
      "[ 0  0 -1  0 -1  0  0  0  0  2  0  0 -1  0 -1  0  0  0 -1  0  0  0 -1 -1\n",
      " -1  0  0  0 -1  0  0  0  0  1  0 -1  1 -1 -1 -1 -1  0  0 -1  0 -1  3 -1\n",
      "  0 -1  0  0  1  0  0  0 -1  0  0  0  0 -1  0  2  0 -1 -1  0  0  0  0 -1\n",
      "  0  1  0  0  0 -1  0  0  0 -1  0  0  0 -1 -1 -1  0  1  0  0 -1 -1  0  0\n",
      " -1  0  0  0 -1 -1  0 -1  0  0  0  2  0  3  0  2  0  0  0  0  0  0  0  0\n",
      "  0  0  0  0  0 -1  0 -1  0  0  0  0  0  0  0  0  0  0  0  0  0 -1  1  0\n",
      "  0 -1  0  0  0  0  0  0  0  0  0 -1  0  0  0 -1  0  0  0 -1  0 -1  0  0\n",
      "  0  0  0 -1  0 -1  0  0 -1  0  0  0  0 -1  0 -1  0  0  0  0  0  0  0  0\n",
      "  0  0  0  1 -1  0  0  0 -1 -1 -1  0  0 -1  0  0  0 -1  0 -1  0  0  0 -1\n",
      " -1  0 -1  0  0  0  0  0  0  0  0  0  0  0  1  0  0  0  0  0  0  0  0 -1\n",
      " -1  0  0  0  0  0  0  0  0  0  0 -1  0 -1 -1  0  0  0 -1 -1  0  0  0  0\n",
      "  0 -1  2  0  0  0  0  0  0  0  0  0  1 -1  0  0  0  0 -1  0 -1  0  0  0\n",
      "  0 -1  0  0  0  0  0  0  0  0  0  0  0  3  0 -1 -1  0  3  0  0  3  0  0\n",
      " -1  0  0 -1  0  0  0 -1  0  0  0  0  0 -1  0  0  0  0  0 -1  0 -1  0 -1\n",
      "  0  0  0  0  0  0  0 -1  0  0  0 -1  0 -1  0 -1  0 -1  1  0  0 -1 -1  0\n",
      "  0  0  0  0  0  0  0  0  0  0  1  0  0  0  0  0  0  0  0  0  0  0 -1  0\n",
      " -1  0  0  0  0  0  0  0  0  1  0  0  0  0  0  0  0 -1  0  0  0  0  1 -1\n",
      "  0  0  0  0 -1 -1  0  0  0  0 -1  0  0  0  0  0  0  0 -1 -1  0  0  0  1\n",
      "  0  0 -1 -1  0 -1  0  0]\n",
      "Estimated number of clusters: 4\n",
      "Estimated number of noise points: 97\n"
     ]
    }
   ],
   "source": [
    "#data reduced to two dimensions for easier visualization\n",
    "dbsc = DBSCAN(eps = 0.2, min_samples = 5).fit(data_reduced)\n",
    "\n",
    "labels = dbsc.labels_\n",
    "\n",
    "n_clusters_ = len(set(labels)) - (1 if -1 in labels else 0)\n",
    "n_noise_ = list(labels).count(-1)\n",
    "\n",
    "print(labels)\n",
    "print('Estimated number of clusters: %d' % n_clusters_)\n",
    "print('Estimated number of noise points: %d' % n_noise_)"
   ]
  },
  {
   "cell_type": "code",
   "execution_count": 29,
   "metadata": {},
   "outputs": [
    {
     "data": {
      "image/png": "[encoded data removed]",
      "text/plain": [
       "<Figure size 432x288 with 1 Axes>"
      ]
     },
     "metadata": {
      "needs_background": "light"
     },
     "output_type": "display_data"
    }
   ],
   "source": [
    "sns.scatterplot(data_r['c1'],data_r['c2'],s=25,alpha=0.7)\n",
    "plt.show()"
   ]
  },
  {
   "cell_type": "code",
   "execution_count": 30,
   "metadata": {},
   "outputs": [
    {
     "data": {
      "image/png": "[encoded data removed]",
      "text/plain": [
       "<Figure size 432x288 with 1 Axes>"
      ]
     },
     "metadata": {
      "needs_background": "light"
     },
     "output_type": "display_data"
    }
   ],
   "source": [
    "plt.scatter(data_r['c1'],data_r['c2'],c=labels,cmap='rainbow',s=25,alpha=0.7)\n",
    "plt.show()"
   ]
  },
  {
   "cell_type": "code",
   "execution_count": null,
   "metadata": {},
   "outputs": [],
   "source": []
  }
 ],
 "metadata": {
  "kernelspec": {
   "display_name": "Python 3",
   "language": "python",
   "name": "python3"
  },
  "language_info": {
   "codemirror_mode": {
    "name": "ipython",
    "version": 3
   },
   "file_extension": ".py",
   "mimetype": "text/x-python",
   "name": "python",
   "nbconvert_exporter": "python",
   "pygments_lexer": "ipython3",
   "version": "3.7.6"
  }
 },
 "nbformat": 4,
 "nbformat_minor": 4
}
